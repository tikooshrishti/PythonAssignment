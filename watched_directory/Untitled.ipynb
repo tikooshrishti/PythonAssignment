{
 "cells": [
  {
   "cell_type": "code",
   "execution_count": null,
   "id": "07ec0a5a-d5e9-45af-92bf-c7c991584169",
   "metadata": {},
   "outputs": [],
   "source": [
    "!pip install mysql-connector-python watchdog"
   ]
  },
  {
   "cell_type": "code",
   "execution_count": null,
   "id": "75f81f5c-99d2-4309-8133-7f155f820cf3",
   "metadata": {},
   "outputs": [
    {
     "data": {
      "text/plain": [
       "'Monitoring directory: D:\\\\watched_directory'"
      ]
     },
     "metadata": {},
     "output_type": "display_data"
    },
    {
     "name": "stdout",
     "output_type": "stream",
     "text": [
      "Detected new file: D:\\watched_directory\\.~Untitled.ipynb\n",
      "Error processing file D:\\watched_directory\\.~Untitled.ipynb: name 'watched_directory' is not defined\n",
      "Detected new file: D:\\watched_directory\\.~Untitled.ipynb\n",
      "Error processing file D:\\watched_directory\\.~Untitled.ipynb: name 'watched_directory' is not defined\n",
      "Detected new file: D:\\watched_directory\\.~Untitled.ipynb\n",
      "Error processing file D:\\watched_directory\\.~Untitled.ipynb: name 'watched_directory' is not defined\n",
      "Detected new file: D:\\watched_directory\\.~Untitled.ipynb\n",
      "Error processing file D:\\watched_directory\\.~Untitled.ipynb: name 'watched_directory' is not defined\n",
      "Detected new file: D:\\watched_directory\\.~Untitled.ipynb\n",
      "Error processing file D:\\watched_directory\\.~Untitled.ipynb: name 'watched_directory' is not defined\n",
      "Detected new file: D:\\watched_directory\\.~Untitled.ipynb\n",
      "Error processing file D:\\watched_directory\\.~Untitled.ipynb: name 'watched_directory' is not defined\n",
      "Detected new file: D:\\watched_directory\\.~Untitled.ipynb\n",
      "Error processing file D:\\watched_directory\\.~Untitled.ipynb: name 'watched_directory' is not defined\n",
      "Detected new file: D:\\watched_directory\\.~Untitled.ipynb\n",
      "Error processing file D:\\watched_directory\\.~Untitled.ipynb: name 'watched_directory' is not defined\n",
      "Detected new file: D:\\watched_directory\\.~Untitled.ipynb\n",
      "Error processing file D:\\watched_directory\\.~Untitled.ipynb: name 'watched_directory' is not defined\n",
      "Detected new file: D:\\watched_directory\\.~Untitled.ipynb\n",
      "Error processing file D:\\watched_directory\\.~Untitled.ipynb: name 'watched_directory' is not defined\n"
     ]
    }
   ],
   "source": [
    "import os\n",
    "import mysql.connector\n",
    "import pandas as pd\n",
    "from watchdog.observers import Observer\n",
    "from watchdog.events import FileSystemEventHandler\n",
    "import time\n",
    "from IPython.display import display, clear_output\n",
    "\n",
    "WATCHED_DIR = 'D:\\watched_directory'  # Update this path\n",
    "DB_CONFIG = {\n",
    "    'user': 'root',\n",
    "    'password': 'root101',\n",
    "    'host': 'localhost',\n",
    "    'database': 'Listener'\n",
    "}\n",
    "\n",
    "# Initialize MySQL database\n",
    "def init_db():\n",
    "    conn = mysql.connector.connect(**DB_CONFIG)\n",
    "    cursor = conn.cursor()\n",
    "    cursor.execute('''\n",
    "        CREATE TABLE IF NOT EXISTS files (\n",
    "            id INT AUTO_INCREMENT PRIMARY KEY,\n",
    "            file_name VARCHAR(255),\n",
    "            content TEXT\n",
    "        )\n",
    "    ''')\n",
    "    conn.commit()\n",
    "    cursor.close()\n",
    "    conn.close()\n",
    "\n",
    "# Insert file content into the database\n",
    "def upload_to_db(file_name, content):\n",
    "    conn = mysql.connector.connect(**DB_CONFIG)\n",
    "    cursor = conn.cursor()\n",
    "    cursor.execute('''\n",
    "        INSERT INTO files (watched_directory)\n",
    "        VALUES (%s, %s)\n",
    "    ''', (watched_directory))\n",
    "    conn.commit()\n",
    "    cursor.close()\n",
    "    conn.close()\n",
    "\n",
    "# Handle new files\n",
    "class FileHandler(FileSystemEventHandler):\n",
    "    def on_created(self, event):\n",
    "        if not event.is_directory:\n",
    "            file_path = event.src_path\n",
    "            print(f\"Detected new file: {'D:\\watched_directory'}\")\n",
    "            with open('D:\\watched_directory', 'r') as file:\n",
    "                content = file.read()\n",
    "            upload_to_db(os.path.basename('D:\\watched_directory'), content)\n",
    "            os.remove(file_path)  # Remove file after processing\n",
    "\n",
    "# Monitor the directory\n",
    "def monitor_directory():\n",
    "    init_db()\n",
    "    event_handler = FileHandler()\n",
    "    observer = Observer()\n",
    "    observer.schedule(event_handler, path=WATCHED_DIR, recursive=False)\n",
    "    observer.start()\n",
    "\n",
    "    try:\n",
    "        for _ in range(10):  # Run for a limited time\n",
    "            time.sleep(5)  # Sleep for 5 seconds before checking again\n",
    "            clear_output(wait=True)  # Clear the output to update the notebook cell\n",
    "            display(f\"Monitoring directory: {WATCHED_DIR}\")\n",
    "    except KeyboardInterrupt:\n",
    "        print(\"Stopping the file listener.\")\n",
    "        observer.stop()\n",
    "    observer.join()\n",
    "\n",
    "class FileHandler(FileSystemEventHandler):\n",
    "    def on_created(self, event):\n",
    "        # Only process files, not directories\n",
    "        if not event.is_directory:\n",
    "            file_path = event.src_path\n",
    "            print(f\"Detected new file: {file_path}\")\n",
    "            try:\n",
    "                with open(file_path, 'r') as file:\n",
    "                    content = file.read()\n",
    "                upload_to_db(os.path.basename(file_path), content)\n",
    "                os.remove(file_path)  # Remove file after processing\n",
    "            except PermissionError as e:\n",
    "                print(f\"Permission error: {e}\")\n",
    "            except Exception as e:\n",
    "                print(f\"Error processing file {file_path}: {e}\")\n",
    "# Run the directory monitoring function\n",
    "monitor_directory()\n"
   ]
  },
  {
   "cell_type": "code",
   "execution_count": null,
   "id": "e50323bc-7015-4c76-a3dd-4461d156e921",
   "metadata": {},
   "outputs": [],
   "source": []
  }
 ],
 "metadata": {
  "kernelspec": {
   "display_name": "Python 3 (ipykernel)",
   "language": "python",
   "name": "python3"
  },
  "language_info": {
   "codemirror_mode": {
    "name": "ipython",
    "version": 3
   },
   "file_extension": ".py",
   "mimetype": "text/x-python",
   "name": "python",
   "nbconvert_exporter": "python",
   "pygments_lexer": "ipython3",
   "version": "3.12.3"
  }
 },
 "nbformat": 4,
 "nbformat_minor": 5
}
