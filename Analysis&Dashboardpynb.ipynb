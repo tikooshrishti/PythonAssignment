{
  "nbformat": 4,
  "nbformat_minor": 0,
  "metadata": {
    "colab": {
      "provenance": []
    },
    "kernelspec": {
      "name": "python3",
      "display_name": "Python 3"
    },
    "language_info": {
      "name": "python"
    }
  },
  "cells": [
    {
      "cell_type": "code",
      "execution_count": null,
      "metadata": {
        "id": "jlzKakrabihO",
        "colab": {
          "base_uri": "https://localhost:8080/"
        },
        "outputId": "3b9fb1ba-7ff3-4323-d45a-96f6e78e9a47"
      },
      "outputs": [
        {
          "output_type": "stream",
          "name": "stdout",
          "text": [
            "   ORDERNUMBER  QUANTITYORDERED  PRICEEACH  ORDERLINENUMBER    SALES  \\\n",
            "0        10107               30      95.70                2  2871.00   \n",
            "1        10121               34      81.35                5  2765.90   \n",
            "2        10134               41      94.74                2  3884.34   \n",
            "3        10145               45      83.26                6  3746.70   \n",
            "4        10159               49     100.00               14  5205.27   \n",
            "\n",
            "   ORDERDATE   STATUS  QTR_ID  MONTH_ID  YEAR_ID  ...  \\\n",
            "0 2003-02-24  Shipped       1         2     2003  ...   \n",
            "1 2003-07-05  Shipped       2         5     2003  ...   \n",
            "2 2003-01-07  Shipped       3         7     2003  ...   \n",
            "3 2003-08-25  Shipped       3         8     2003  ...   \n",
            "4 2003-10-10  Shipped       4        10     2003  ...   \n",
            "\n",
            "                    ADDRESSLINE1  ADDRESSLINE2           CITY STATE  \\\n",
            "0        897 Long Airport Avenue           NaN            NYC    NY   \n",
            "1             59 rue de l'Abbaye           NaN          Reims   NaN   \n",
            "2  27 rue du Colonel Pierre Avia           NaN          Paris   NaN   \n",
            "3             78934 Hillside Dr.           NaN       Pasadena    CA   \n",
            "4                7734 Strong St.           NaN  San Francisco    CA   \n",
            "\n",
            "  POSTALCODE COUNTRY TERRITORY CONTACTLASTNAME CONTACTFIRSTNAME DEALSIZE  \n",
            "0      10022     USA       NaN              Yu             Kwai    Small  \n",
            "1      51100  France      EMEA         Henriot             Paul    Small  \n",
            "2      75508  France      EMEA        Da Cunha           Daniel   Medium  \n",
            "3      90003     USA       NaN           Young            Julie   Medium  \n",
            "4        NaN     USA       NaN           Brown            Julie   Medium  \n",
            "\n",
            "[5 rows x 25 columns]\n",
            "<class 'pandas.core.frame.DataFrame'>\n",
            "RangeIndex: 2823 entries, 0 to 2822\n",
            "Data columns (total 25 columns):\n",
            " #   Column            Non-Null Count  Dtype         \n",
            "---  ------            --------------  -----         \n",
            " 0   ORDERNUMBER       2823 non-null   int64         \n",
            " 1   QUANTITYORDERED   2823 non-null   int64         \n",
            " 2   PRICEEACH         2823 non-null   float64       \n",
            " 3   ORDERLINENUMBER   2823 non-null   int64         \n",
            " 4   SALES             2823 non-null   float64       \n",
            " 5   ORDERDATE         2823 non-null   datetime64[ns]\n",
            " 6   STATUS            2823 non-null   object        \n",
            " 7   QTR_ID            2823 non-null   int64         \n",
            " 8   MONTH_ID          2823 non-null   int64         \n",
            " 9   YEAR_ID           2823 non-null   int64         \n",
            " 10  PRODUCTLINE       2823 non-null   object        \n",
            " 11  MSRP              2823 non-null   int64         \n",
            " 12  PRODUCTCODE       2823 non-null   object        \n",
            " 13  CUSTOMERNAME      2823 non-null   object        \n",
            " 14  PHONE             2823 non-null   object        \n",
            " 15  ADDRESSLINE1      2823 non-null   object        \n",
            " 16  ADDRESSLINE2      302 non-null    object        \n",
            " 17  CITY              2823 non-null   object        \n",
            " 18  STATE             1337 non-null   object        \n",
            " 19  POSTALCODE        2747 non-null   object        \n",
            " 20  COUNTRY           2823 non-null   object        \n",
            " 21  TERRITORY         1749 non-null   object        \n",
            " 22  CONTACTLASTNAME   2823 non-null   object        \n",
            " 23  CONTACTFIRSTNAME  2823 non-null   object        \n",
            " 24  DEALSIZE          2823 non-null   object        \n",
            "dtypes: datetime64[ns](1), float64(2), int64(7), object(15)\n",
            "memory usage: 551.5+ KB\n",
            "None\n"
          ]
        }
      ],
      "source": [
        "import pandas as pd\n",
        "\n",
        "# Load the dataset using pd.read_excel for .xlsx files\n",
        "df = pd.read_excel('sales_data.xlsx')  # Use read_excel for Excel files\n",
        "\n",
        "# Convert 'OrderDate' to datetime\n",
        "df['ORDERDATE'] = pd.to_datetime(df['ORDERDATE'])\n",
        "\n",
        "# Display basic information about the dataset\n",
        "print(df.head())\n",
        "print(df.info())"
      ]
    },
    {
      "cell_type": "code",
      "source": [
        "# Group by ProductCategory to get total sales and quantity per category\n",
        "category_summary = df.groupby('PRODUCTLINE').agg({'SALES': 'sum', 'QUANTITYORDERED': 'sum'}).reset_index()\n",
        "\n",
        "print(summary)\n",
        "print(category_summary)"
      ],
      "metadata": {
        "colab": {
          "base_uri": "https://localhost:8080/"
        },
        "id": "5S-6wtl1c1Eu",
        "outputId": "9b111e77-5da7-4953-efc1-b517f4ebc29d"
      },
      "execution_count": null,
      "outputs": [
        {
          "output_type": "stream",
          "name": "stdout",
          "text": [
            "         ORDERNUMBER  QUANTITYORDERED    PRICEEACH  ORDERLINENUMBER  \\\n",
            "count    2823.000000      2823.000000  2823.000000      2823.000000   \n",
            "unique           NaN              NaN          NaN              NaN   \n",
            "top              NaN              NaN          NaN              NaN   \n",
            "freq             NaN              NaN          NaN              NaN   \n",
            "mean    10258.725115        35.092809    83.658544         6.466171   \n",
            "min     10100.000000         6.000000    26.880000         1.000000   \n",
            "25%     10180.000000        27.000000    68.860000         3.000000   \n",
            "50%     10262.000000        35.000000    95.700000         6.000000   \n",
            "75%     10333.500000        43.000000   100.000000         9.000000   \n",
            "max     10425.000000        97.000000   100.000000        18.000000   \n",
            "std        92.085478         9.741443    20.174277         4.225841   \n",
            "\n",
            "               SALES                      ORDERDATE   STATUS       QTR_ID  \\\n",
            "count    2823.000000                           2823     2823  2823.000000   \n",
            "unique           NaN                            NaN        6          NaN   \n",
            "top              NaN                            NaN  Shipped          NaN   \n",
            "freq             NaN                            NaN     2617          NaN   \n",
            "mean     3553.889072  2004-04-25 07:13:04.272050944      NaN     2.717676   \n",
            "min       482.130000            2003-01-04 00:00:00      NaN     1.000000   \n",
            "25%      2203.430000            2003-10-22 00:00:00      NaN     2.000000   \n",
            "50%      3184.800000            2004-05-05 00:00:00      NaN     3.000000   \n",
            "75%      4508.000000            2004-11-15 00:00:00      NaN     4.000000   \n",
            "max     14082.800000            2005-12-01 00:00:00      NaN     4.000000   \n",
            "std      1841.865106                            NaN      NaN     1.203878   \n",
            "\n",
            "           MONTH_ID     YEAR_ID  ...        ADDRESSLINE1  ADDRESSLINE2  \\\n",
            "count   2823.000000  2823.00000  ...                2823           302   \n",
            "unique          NaN         NaN  ...                  92             9   \n",
            "top             NaN         NaN  ...  C/ Moralzarzal, 86       Level 3   \n",
            "freq            NaN         NaN  ...                 259            55   \n",
            "mean       7.092455  2003.81509  ...                 NaN           NaN   \n",
            "min        1.000000  2003.00000  ...                 NaN           NaN   \n",
            "25%        4.000000  2003.00000  ...                 NaN           NaN   \n",
            "50%        8.000000  2004.00000  ...                 NaN           NaN   \n",
            "75%       11.000000  2004.00000  ...                 NaN           NaN   \n",
            "max       12.000000  2005.00000  ...                 NaN           NaN   \n",
            "std        3.656633     0.69967  ...                 NaN           NaN   \n",
            "\n",
            "          CITY STATE POSTALCODE COUNTRY TERRITORY CONTACTLASTNAME  \\\n",
            "count     2823  1337     2747.0    2823      1749            2823   \n",
            "unique      73    16       73.0      19         3              77   \n",
            "top     Madrid    CA    28034.0     USA      EMEA          Freyre   \n",
            "freq       304   416      259.0    1004      1407             259   \n",
            "mean       NaN   NaN        NaN     NaN       NaN             NaN   \n",
            "min        NaN   NaN        NaN     NaN       NaN             NaN   \n",
            "25%        NaN   NaN        NaN     NaN       NaN             NaN   \n",
            "50%        NaN   NaN        NaN     NaN       NaN             NaN   \n",
            "75%        NaN   NaN        NaN     NaN       NaN             NaN   \n",
            "max        NaN   NaN        NaN     NaN       NaN             NaN   \n",
            "std        NaN   NaN        NaN     NaN       NaN             NaN   \n",
            "\n",
            "       CONTACTFIRSTNAME  DEALSIZE  \n",
            "count              2823      2823  \n",
            "unique               72         3  \n",
            "top               Diego    Medium  \n",
            "freq                259      1384  \n",
            "mean                NaN       NaN  \n",
            "min                 NaN       NaN  \n",
            "25%                 NaN       NaN  \n",
            "50%                 NaN       NaN  \n",
            "75%                 NaN       NaN  \n",
            "max                 NaN       NaN  \n",
            "std                 NaN       NaN  \n",
            "\n",
            "[11 rows x 25 columns]\n",
            "        PRODUCTLINE       SALES  QUANTITYORDERED\n",
            "0      Classic Cars  3919615.66            33992\n",
            "1       Motorcycles  1166388.34            11663\n",
            "2            Planes   975003.57            10727\n",
            "3             Ships   714437.13             8127\n",
            "4            Trains   226243.47             2712\n",
            "5  Trucks and Buses  1127789.84            10777\n",
            "6      Vintage Cars  1903150.84            21069\n"
          ]
        }
      ]
    },
    {
      "cell_type": "code",
      "source": [
        "from sklearn.model_selection import train_test_split\n",
        "from sklearn.linear_model import LinearRegression\n",
        "from sklearn.metrics import mean_squared_error\n",
        "\n",
        "# Prepare data for modeling\n",
        "X = df[['QUANTITYORDERED']]  # Use the correct column name 'QUANTITYORDERED'\n",
        "y = df['SALES']  # Use the correct column name 'SALES'\n",
        "\n",
        "# Split data into training and testing sets\n",
        "X_train, X_test, y_train, y_test = train_test_split(X, y, test_size=0.2, random_state=42)\n",
        "\n",
        "# Train the model\n",
        "model = LinearRegression()\n",
        "model.fit(X_train, y_train)\n",
        "\n",
        "# Make predictions\n",
        "y_pred = model.predict(X_test)\n",
        "\n",
        "# Evaluate the model\n",
        "mse = mean_squared_error(y_test, y_pred)\n",
        "print(f'Mean Squared Error: {mse}')\n",
        "\n",
        "# Predict for the entire dataset\n",
        "df['PredictedSales'] = model.predict(df[['QUANTITYORDERED']])  # Use the correct column name here as well"
      ],
      "metadata": {
        "colab": {
          "base_uri": "https://localhost:8080/"
        },
        "id": "I1rQQWO2djBt",
        "outputId": "f414e34b-866e-47a8-faf8-810207a6aef3"
      },
      "execution_count": null,
      "outputs": [
        {
          "output_type": "stream",
          "name": "stdout",
          "text": [
            "Mean Squared Error: 2920934.901202212\n"
          ]
        }
      ]
    },
    {
      "cell_type": "code",
      "source": [
        "pip install dash plotly"
      ],
      "metadata": {
        "colab": {
          "base_uri": "https://localhost:8080/"
        },
        "id": "sUJ1T_Amd26-",
        "outputId": "9a5bca0e-ea65-413c-dbd5-0d9da8fee0ca"
      },
      "execution_count": null,
      "outputs": [
        {
          "output_type": "stream",
          "name": "stdout",
          "text": [
            "Collecting dash\n",
            "  Downloading dash-2.17.1-py3-none-any.whl.metadata (10 kB)\n",
            "Requirement already satisfied: plotly in /usr/local/lib/python3.10/dist-packages (5.15.0)\n",
            "Requirement already satisfied: Flask<3.1,>=1.0.4 in /usr/local/lib/python3.10/dist-packages (from dash) (2.2.5)\n",
            "Requirement already satisfied: Werkzeug<3.1 in /usr/local/lib/python3.10/dist-packages (from dash) (3.0.4)\n",
            "Collecting dash-html-components==2.0.0 (from dash)\n",
            "  Downloading dash_html_components-2.0.0-py3-none-any.whl.metadata (3.8 kB)\n",
            "Collecting dash-core-components==2.0.0 (from dash)\n",
            "  Downloading dash_core_components-2.0.0-py3-none-any.whl.metadata (2.9 kB)\n",
            "Collecting dash-table==5.0.0 (from dash)\n",
            "  Downloading dash_table-5.0.0-py3-none-any.whl.metadata (2.4 kB)\n",
            "Requirement already satisfied: importlib-metadata in /usr/local/lib/python3.10/dist-packages (from dash) (8.4.0)\n",
            "Requirement already satisfied: typing-extensions>=4.1.1 in /usr/local/lib/python3.10/dist-packages (from dash) (4.12.2)\n",
            "Requirement already satisfied: requests in /usr/local/lib/python3.10/dist-packages (from dash) (2.32.3)\n",
            "Collecting retrying (from dash)\n",
            "  Downloading retrying-1.3.4-py3-none-any.whl.metadata (6.9 kB)\n",
            "Requirement already satisfied: nest-asyncio in /usr/local/lib/python3.10/dist-packages (from dash) (1.6.0)\n",
            "Requirement already satisfied: setuptools in /usr/local/lib/python3.10/dist-packages (from dash) (71.0.4)\n",
            "Requirement already satisfied: tenacity>=6.2.0 in /usr/local/lib/python3.10/dist-packages (from plotly) (9.0.0)\n",
            "Requirement already satisfied: packaging in /usr/local/lib/python3.10/dist-packages (from plotly) (24.1)\n",
            "Requirement already satisfied: Jinja2>=3.0 in /usr/local/lib/python3.10/dist-packages (from Flask<3.1,>=1.0.4->dash) (3.1.4)\n",
            "Requirement already satisfied: itsdangerous>=2.0 in /usr/local/lib/python3.10/dist-packages (from Flask<3.1,>=1.0.4->dash) (2.2.0)\n",
            "Requirement already satisfied: click>=8.0 in /usr/local/lib/python3.10/dist-packages (from Flask<3.1,>=1.0.4->dash) (8.1.7)\n",
            "Requirement already satisfied: MarkupSafe>=2.1.1 in /usr/local/lib/python3.10/dist-packages (from Werkzeug<3.1->dash) (2.1.5)\n",
            "Requirement already satisfied: zipp>=0.5 in /usr/local/lib/python3.10/dist-packages (from importlib-metadata->dash) (3.20.1)\n",
            "Requirement already satisfied: charset-normalizer<4,>=2 in /usr/local/lib/python3.10/dist-packages (from requests->dash) (3.3.2)\n",
            "Requirement already satisfied: idna<4,>=2.5 in /usr/local/lib/python3.10/dist-packages (from requests->dash) (3.8)\n",
            "Requirement already satisfied: urllib3<3,>=1.21.1 in /usr/local/lib/python3.10/dist-packages (from requests->dash) (2.0.7)\n",
            "Requirement already satisfied: certifi>=2017.4.17 in /usr/local/lib/python3.10/dist-packages (from requests->dash) (2024.7.4)\n",
            "Requirement already satisfied: six>=1.7.0 in /usr/local/lib/python3.10/dist-packages (from retrying->dash) (1.16.0)\n",
            "Downloading dash-2.17.1-py3-none-any.whl (7.5 MB)\n",
            "\u001b[2K   \u001b[90m━━━━━━━━━━━━━━━━━━━━━━━━━━━━━━━━━━━━━━━━\u001b[0m \u001b[32m7.5/7.5 MB\u001b[0m \u001b[31m56.7 MB/s\u001b[0m eta \u001b[36m0:00:00\u001b[0m\n",
            "\u001b[?25hDownloading dash_core_components-2.0.0-py3-none-any.whl (3.8 kB)\n",
            "Downloading dash_html_components-2.0.0-py3-none-any.whl (4.1 kB)\n",
            "Downloading dash_table-5.0.0-py3-none-any.whl (3.9 kB)\n",
            "Downloading retrying-1.3.4-py3-none-any.whl (11 kB)\n",
            "Installing collected packages: dash-table, dash-html-components, dash-core-components, retrying, dash\n",
            "Successfully installed dash-2.17.1 dash-core-components-2.0.0 dash-html-components-2.0.0 dash-table-5.0.0 retrying-1.3.4\n"
          ]
        }
      ]
    },
    {
      "cell_type": "code",
      "source": [
        "import dash\n",
        "import dash_core_components as dcc\n",
        "import dash_html_components as html\n",
        "import plotly.express as px\n",
        "import plotly.graph_objects as go\n",
        "from dash.dependencies import Input, Output\n",
        "\n",
        "# Initialize the Dash app\n",
        "app = dash.Dash(__name__)\n",
        "\n",
        "# Create interactive plots\n",
        "# Use the correct column name 'ORDERDATE'\n",
        "fig_sales_time = px.line(df, x='ORDERDATE', y='SALES', title='Sales Over Time')\n",
        "fig_category = px.bar(category_summary, x='PRODUCTLINE', y='SALES', title='Sales by Category')\n",
        "\n",
        "# Scatter plot for Quantity vs Predicted Sales\n",
        "# Use the correct column names 'QUANTITYORDERED' and 'PredictedSales'\n",
        "fig_quantity_vs_predicted = go.Figure()\n",
        "fig_quantity_vs_predicted.add_trace(go.Scatter(x=df['QUANTITYORDERED'], y=df['PredictedSales'], mode='markers', name='Predicted Sales'))\n",
        "fig_quantity_vs_predicted.update_layout(title='Quantity vs Predicted Sales', xaxis_title='Quantity', yaxis_title='Predicted Sales')\n",
        "\n",
        "# Define the app layout\n",
        "app.layout = html.Div([\n",
        "    html.H1('Sales Dashboard'),\n",
        "\n",
        "    dcc.Graph(id='sales-time', figure=fig_sales_time),\n",
        "    dcc.Graph(id='sales-category', figure=fig_category),\n",
        "    dcc.Graph(id='quantity-vs-predicted-sales', figure=fig_quantity_vs_predicted)\n",
        "])\n",
        "\n",
        "if __name__ == '__main__':\n",
        "    app.run_server(debug=True)"
      ],
      "metadata": {
        "colab": {
          "base_uri": "https://localhost:8080/",
          "height": 761
        },
        "id": "jz4d6_ogeBMG",
        "outputId": "fb1d4755-ad02-4488-bc12-58433a894ebe"
      },
      "execution_count": null,
      "outputs": [
        {
          "output_type": "stream",
          "name": "stderr",
          "text": [
            "/usr/local/lib/python3.10/dist-packages/_plotly_utils/basevalidators.py:105: FutureWarning:\n",
            "\n",
            "The behavior of DatetimeProperties.to_pydatetime is deprecated, in a future version this will return a Series containing python datetime objects instead of an ndarray. To retain the old behavior, call `np.array` on the result\n",
            "\n"
          ]
        },
        {
          "output_type": "display_data",
          "data": {
            "text/plain": [
              "<IPython.core.display.Javascript object>"
            ],
            "application/javascript": [
              "(async (port, path, width, height, cache, element) => {\n",
              "    if (!google.colab.kernel.accessAllowed && !cache) {\n",
              "      return;\n",
              "    }\n",
              "    element.appendChild(document.createTextNode(''));\n",
              "    const url = await google.colab.kernel.proxyPort(port, {cache});\n",
              "    const iframe = document.createElement('iframe');\n",
              "    iframe.src = new URL(path, url).toString();\n",
              "    iframe.height = height;\n",
              "    iframe.width = width;\n",
              "    iframe.style.border = 0;\n",
              "    iframe.allow = [\n",
              "        'accelerometer',\n",
              "        'autoplay',\n",
              "        'camera',\n",
              "        'clipboard-read',\n",
              "        'clipboard-write',\n",
              "        'gyroscope',\n",
              "        'magnetometer',\n",
              "        'microphone',\n",
              "        'serial',\n",
              "        'usb',\n",
              "        'xr-spatial-tracking',\n",
              "    ].join('; ');\n",
              "    element.appendChild(iframe);\n",
              "  })(8050, \"/\", \"100%\", 650, false, window.element)"
            ]
          },
          "metadata": {}
        }
      ]
    }
  ]
}